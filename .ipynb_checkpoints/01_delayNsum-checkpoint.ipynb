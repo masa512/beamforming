{
 "cells": [
  {
   "cell_type": "code",
   "execution_count": 1,
   "id": "16fd30a7-d794-41ac-b49e-231f03558fc7",
   "metadata": {},
   "outputs": [],
   "source": [
    "# Create a Simulate Environment"
   ]
  },
  {
   "cell_type": "markdown",
   "id": "825bf762-35fd-4b5a-95bb-0e9faed1bec4",
   "metadata": {},
   "source": [
    "# Imports"
   ]
  },
  {
   "cell_type": "code",
   "execution_count": null,
   "id": "42f9661b-0e43-4eae-b3a8-0f7942d9090a",
   "metadata": {},
   "outputs": [],
   "source": []
  }
 ],
 "metadata": {
  "kernelspec": {
   "display_name": "Python 3 (ipykernel)",
   "language": "python",
   "name": "python3"
  },
  "language_info": {
   "codemirror_mode": {
    "name": "ipython",
    "version": 3
   },
   "file_extension": ".py",
   "mimetype": "text/x-python",
   "name": "python",
   "nbconvert_exporter": "python",
   "pygments_lexer": "ipython3",
   "version": "3.10.12"
  }
 },
 "nbformat": 4,
 "nbformat_minor": 5
}
